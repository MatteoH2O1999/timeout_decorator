{
 "cells": [
  {
   "cell_type": "code",
   "execution_count": null,
   "id": "7e996fbd",
   "metadata": {
    "execution": {
     "iopub.execute_input": "2022-07-13T02:56:35.431270Z",
     "iopub.status.busy": "2022-07-13T02:56:35.431024Z",
     "iopub.status.idle": "2022-07-13T02:56:37.590130Z",
     "shell.execute_reply": "2022-07-13T02:56:37.589497Z"
    }
   },
   "outputs": [],
   "source": [
    "import asyncio\n",
    "import logging\n",
    "import matplotlib.pyplot as plt\n",
    "import seaborn as sns\n",
    "import pandas as pd\n",
    "import numpy as np\n",
    "import time\n",
    "import random\n",
    "import os\n",
    "import sys\n",
    "import shutil\n",
    "\n",
    "from inspect import iscoroutinefunction\n",
    "from timeout_function_decorator import timeout\n",
    "from statistics import mean, median_low"
   ]
  },
  {
   "cell_type": "code",
   "execution_count": null,
   "id": "7c9473a5",
   "metadata": {
    "execution": {
     "iopub.execute_input": "2022-07-13T02:56:37.593756Z",
     "iopub.status.busy": "2022-07-13T02:56:37.593064Z",
     "iopub.status.idle": "2022-07-13T02:56:37.598208Z",
     "shell.execute_reply": "2022-07-13T02:56:37.597631Z"
    }
   },
   "outputs": [],
   "source": [
    "sns.set_theme('notebook')\n",
    "sns.set_palette('colorblind')\n",
    "\n",
    "log_format = \"%(asctime)s - %(levelname)s: %(message)s\"\n",
    "logging.basicConfig(format=log_format)"
   ]
  },
  {
   "cell_type": "code",
   "execution_count": null,
   "id": "f248709b",
   "metadata": {
    "execution": {
     "iopub.execute_input": "2022-07-13T02:56:37.601059Z",
     "iopub.status.busy": "2022-07-13T02:56:37.600582Z",
     "iopub.status.idle": "2022-07-13T02:56:37.603654Z",
     "shell.execute_reply": "2022-07-13T02:56:37.603047Z"
    }
   },
   "outputs": [],
   "source": [
    "MAX_TIME = 0.1\n",
    "NUMBER_OF_EXPERIMENTS = 50\n",
    "HARD_CAP = 500"
   ]
  },
  {
   "cell_type": "code",
   "execution_count": null,
   "id": "5d9e6a0b",
   "metadata": {
    "execution": {
     "iopub.execute_input": "2022-07-13T02:56:37.606623Z",
     "iopub.status.busy": "2022-07-13T02:56:37.606275Z",
     "iopub.status.idle": "2022-07-13T02:56:37.612245Z",
     "shell.execute_reply": "2022-07-13T02:56:37.611636Z"
    }
   },
   "outputs": [],
   "source": [
    "def quick_sync_func(a, b):\n",
    "    return a + b\n",
    "\n",
    "def medium_sync_func(a, b):\n",
    "    for _ in range(1000):\n",
    "        a += b\n",
    "    return a + b\n",
    "\n",
    "def long_sync_func(a, b):\n",
    "    for _ in range(10_000):\n",
    "        a += b\n",
    "    return a + b\n",
    "\n",
    "def huge_sync_func(a, b):\n",
    "    for _ in range(100_000):\n",
    "        a += b\n",
    "    return a + b\n",
    "\n",
    "@timeout(1)\n",
    "def quick_timeout_sync_func(a, b):\n",
    "    return a + b\n",
    "\n",
    "@timeout(1)\n",
    "def medium_timeout_sync_func(a, b):\n",
    "    for _ in range(1000):\n",
    "        a += b\n",
    "    return a + b\n",
    "\n",
    "@timeout(1)\n",
    "def long_timeout_sync_func(a, b):\n",
    "    for _ in range(10_000):\n",
    "        a += b\n",
    "    return a + b\n",
    "\n",
    "@timeout(1)\n",
    "def huge_timeout_sync_func(a, b):\n",
    "    for _ in range(100_000):\n",
    "        a += b\n",
    "    return a + b"
   ]
  },
  {
   "cell_type": "code",
   "execution_count": null,
   "id": "7c0ec059",
   "metadata": {
    "execution": {
     "iopub.execute_input": "2022-07-13T02:56:37.615487Z",
     "iopub.status.busy": "2022-07-13T02:56:37.614997Z",
     "iopub.status.idle": "2022-07-13T02:56:37.621044Z",
     "shell.execute_reply": "2022-07-13T02:56:37.620444Z"
    }
   },
   "outputs": [],
   "source": [
    "async def quick_async_func(a, b):\n",
    "    return a + b\n",
    "\n",
    "async def medium_async_func(a, b):\n",
    "    for _ in range(1000):\n",
    "        a += b\n",
    "    return a + b\n",
    "\n",
    "async def long_async_func(a, b):\n",
    "    for _ in range(10_000):\n",
    "        a += b\n",
    "    return a + b\n",
    "\n",
    "async def huge_async_func(a, b):\n",
    "    for _ in range(100_000):\n",
    "        a += b\n",
    "    return a + b\n",
    "\n",
    "@timeout(1)\n",
    "async def quick_timeout_async_func(a, b):\n",
    "    return a + b\n",
    "\n",
    "@timeout(1)\n",
    "async def medium_timeout_async_func(a, b):\n",
    "    for _ in range(1000):\n",
    "        a += b\n",
    "    return a + b\n",
    "\n",
    "@timeout(1)\n",
    "async def long_timeout_async_func(a, b):\n",
    "    for _ in range(10_000):\n",
    "        a += b\n",
    "    return a + b\n",
    "\n",
    "@timeout(1)\n",
    "async def huge_timeout_async_func(a, b):\n",
    "    for _ in range(100_000):\n",
    "        a += b\n",
    "    return a + b"
   ]
  },
  {
   "cell_type": "code",
   "execution_count": null,
   "id": "44a52777",
   "metadata": {
    "execution": {
     "iopub.execute_input": "2022-07-13T02:56:37.624037Z",
     "iopub.status.busy": "2022-07-13T02:56:37.623557Z",
     "iopub.status.idle": "2022-07-13T02:56:37.628667Z",
     "shell.execute_reply": "2022-07-13T02:56:37.628055Z"
    }
   },
   "outputs": [],
   "source": [
    "def sync_experiment(func, n):\n",
    "    logging.info(f\"Starting sync experiment with function {func.__name__} with {n} calls...\")\n",
    "    a = 42\n",
    "    b = 69\n",
    "    start = time.time()\n",
    "    for i in range(n):\n",
    "        func(a, b)\n",
    "    end = time.time()\n",
    "    logging.info(f\"Completed sync experiment with function {func.__name__} with {n} calls in {end - start} seconds...\")\n",
    "    return end - start\n",
    "\n",
    "async def async_experiment(func, n):\n",
    "    logging.info(f\"Starting async experiment with function {func.__name__} with {n} calls...\")\n",
    "    a = 42\n",
    "    b = 69\n",
    "    start = time.time()\n",
    "    for i in range(n):\n",
    "        await func(a, b)\n",
    "    end = time.time()\n",
    "    logging.info(f\"Completed async experiment with function {func.__name__} with {n} calls in {end - start} seconds...\")\n",
    "    return end - start"
   ]
  },
  {
   "cell_type": "code",
   "execution_count": null,
   "id": "9a13630b",
   "metadata": {
    "execution": {
     "iopub.execute_input": "2022-07-13T02:56:37.631696Z",
     "iopub.status.busy": "2022-07-13T02:56:37.631218Z",
     "iopub.status.idle": "2022-07-13T02:56:37.635783Z",
     "shell.execute_reply": "2022-07-13T02:56:37.635182Z"
    }
   },
   "outputs": [],
   "source": [
    "async def experiment_manager(func, experiment_length, number_of_experiments):\n",
    "    logging.info(f\"Starting experiment battery calling function {func.__name__} {experiment_length} times. Battery will be repeated {number_of_experiments} times...\")\n",
    "    avg = []\n",
    "    if iscoroutinefunction(func):\n",
    "        for _ in range(number_of_experiments):\n",
    "            tmp = await async_experiment(func, experiment_length)\n",
    "            avg.append(tmp)\n",
    "    else:\n",
    "        for _ in range(number_of_experiments):\n",
    "            tmp = sync_experiment(func, experiment_length)\n",
    "            avg.append(tmp)\n",
    "    logging.info(f\"Completed experiment battery calling function {func.__name__} {experiment_length} times. Battery has been repeated {number_of_experiments} times and took an average of {mean(avg)} seconds.\")\n",
    "    return mean(avg)"
   ]
  },
  {
   "cell_type": "code",
   "execution_count": null,
   "id": "b67bd445",
   "metadata": {
    "execution": {
     "iopub.execute_input": "2022-07-13T02:56:37.638642Z",
     "iopub.status.busy": "2022-07-13T02:56:37.638310Z",
     "iopub.status.idle": "2022-07-13T02:56:37.643332Z",
     "shell.execute_reply": "2022-07-13T02:56:37.642745Z"
    }
   },
   "outputs": [],
   "source": [
    "df = pd.DataFrame(columns=['function', 'number of calls', 'time to complete', 'timeout', 'async'])"
   ]
  },
  {
   "cell_type": "code",
   "execution_count": null,
   "id": "c3843e20",
   "metadata": {
    "execution": {
     "iopub.execute_input": "2022-07-13T02:56:37.646085Z",
     "iopub.status.busy": "2022-07-13T02:56:37.645580Z",
     "iopub.status.idle": "2022-07-13T02:56:37.649877Z",
     "shell.execute_reply": "2022-07-13T02:56:37.649300Z"
    }
   },
   "outputs": [],
   "source": [
    "async def create_data(func, wrapped, df):\n",
    "    logging.info(f\"Creating data for function {func.__name__}...\")\n",
    "    is_async = iscoroutinefunction(func)\n",
    "    current_time = 0\n",
    "    current_lenth = 1\n",
    "    while current_time < MAX_TIME and current_lenth <= HARD_CAP:\n",
    "        current_time = await experiment_manager(func, current_lenth, NUMBER_OF_EXPERIMENTS)\n",
    "        df.loc[len(df.index)] = [func.__name__, current_lenth, current_time, wrapped, is_async]\n",
    "        current_lenth += 1\n",
    "    logging.info(f\"Created data for function {func.__name__}...\")"
   ]
  },
  {
   "cell_type": "code",
   "execution_count": null,
   "id": "ad85477d",
   "metadata": {
    "execution": {
     "iopub.execute_input": "2022-07-13T02:56:37.652452Z",
     "iopub.status.busy": "2022-07-13T02:56:37.652113Z",
     "iopub.status.idle": "2022-07-13T02:56:41.376994Z",
     "shell.execute_reply": "2022-07-13T02:56:41.373656Z"
    }
   },
   "outputs": [],
   "source": [
    "await create_data(quick_sync_func, False, df)"
   ]
  },
  {
   "cell_type": "code",
   "execution_count": null,
   "id": "b3c3c6fa",
   "metadata": {
    "execution": {
     "iopub.execute_input": "2022-07-13T02:56:41.380067Z",
     "iopub.status.busy": "2022-07-13T02:56:41.379852Z",
     "iopub.status.idle": "2022-07-13T03:10:10.659551Z",
     "shell.execute_reply": "2022-07-13T03:10:10.659046Z"
    },
    "scrolled": true
   },
   "outputs": [],
   "source": [
    "await create_data(quick_timeout_sync_func, True, df)"
   ]
  },
  {
   "cell_type": "code",
   "execution_count": null,
   "id": "53463d68",
   "metadata": {
    "execution": {
     "iopub.execute_input": "2022-07-13T03:10:10.663158Z",
     "iopub.status.busy": "2022-07-13T03:10:10.662818Z",
     "iopub.status.idle": "2022-07-13T03:14:47.973735Z",
     "shell.execute_reply": "2022-07-13T03:14:47.972674Z"
    }
   },
   "outputs": [],
   "source": [
    "await create_data(medium_sync_func, False, df)"
   ]
  },
  {
   "cell_type": "code",
   "execution_count": null,
   "id": "78a2cbea",
   "metadata": {
    "execution": {
     "iopub.execute_input": "2022-07-13T03:14:47.976576Z",
     "iopub.status.busy": "2022-07-13T03:14:47.976366Z",
     "iopub.status.idle": "2022-07-13T03:26:40.323026Z",
     "shell.execute_reply": "2022-07-13T03:26:40.321921Z"
    }
   },
   "outputs": [],
   "source": [
    "await create_data(medium_timeout_sync_func, True, df)"
   ]
  },
  {
   "cell_type": "code",
   "execution_count": null,
   "id": "24426cd8",
   "metadata": {
    "execution": {
     "iopub.execute_input": "2022-07-13T03:26:40.326099Z",
     "iopub.status.busy": "2022-07-13T03:26:40.325882Z",
     "iopub.status.idle": "2022-07-13T03:35:53.230105Z",
     "shell.execute_reply": "2022-07-13T03:35:53.229012Z"
    }
   },
   "outputs": [],
   "source": [
    "await create_data(long_sync_func, False, df)"
   ]
  },
  {
   "cell_type": "code",
   "execution_count": null,
   "id": "cc5e4b93",
   "metadata": {
    "execution": {
     "iopub.execute_input": "2022-07-13T03:35:53.233535Z",
     "iopub.status.busy": "2022-07-13T03:35:53.233239Z",
     "iopub.status.idle": "2022-07-13T03:41:27.457105Z",
     "shell.execute_reply": "2022-07-13T03:41:27.456609Z"
    }
   },
   "outputs": [],
   "source": [
    "await create_data(long_timeout_sync_func, True, df)"
   ]
  },
  {
   "cell_type": "code",
   "execution_count": null,
   "id": "5fad78fd",
   "metadata": {
    "execution": {
     "iopub.execute_input": "2022-07-13T03:41:27.460183Z",
     "iopub.status.busy": "2022-07-13T03:41:27.459971Z",
     "iopub.status.idle": "2022-07-13T03:42:29.249054Z",
     "shell.execute_reply": "2022-07-13T03:42:29.248544Z"
    }
   },
   "outputs": [],
   "source": [
    "await create_data(huge_sync_func, False, df)"
   ]
  },
  {
   "cell_type": "code",
   "execution_count": null,
   "id": "0590d567",
   "metadata": {
    "execution": {
     "iopub.execute_input": "2022-07-13T03:42:29.252017Z",
     "iopub.status.busy": "2022-07-13T03:42:29.251800Z",
     "iopub.status.idle": "2022-07-13T03:43:27.500957Z",
     "shell.execute_reply": "2022-07-13T03:43:27.500475Z"
    }
   },
   "outputs": [],
   "source": [
    "await create_data(huge_timeout_sync_func, True, df)"
   ]
  },
  {
   "cell_type": "code",
   "execution_count": null,
   "id": "35c5cdd8",
   "metadata": {
    "execution": {
     "iopub.execute_input": "2022-07-13T03:43:27.503914Z",
     "iopub.status.busy": "2022-07-13T03:43:27.503496Z",
     "iopub.status.idle": "2022-07-13T03:43:31.690179Z",
     "shell.execute_reply": "2022-07-13T03:43:31.687600Z"
    }
   },
   "outputs": [],
   "source": [
    "await create_data(quick_async_func, False, df)"
   ]
  },
  {
   "cell_type": "code",
   "execution_count": null,
   "id": "7940b9de",
   "metadata": {
    "execution": {
     "iopub.execute_input": "2022-07-13T03:43:31.693622Z",
     "iopub.status.busy": "2022-07-13T03:43:31.693176Z",
     "iopub.status.idle": "2022-07-13T03:46:32.104161Z",
     "shell.execute_reply": "2022-07-13T03:46:32.103619Z"
    }
   },
   "outputs": [],
   "source": [
    "await create_data(quick_timeout_async_func, True, df)"
   ]
  },
  {
   "cell_type": "code",
   "execution_count": null,
   "id": "bf0198b4",
   "metadata": {
    "execution": {
     "iopub.execute_input": "2022-07-13T03:46:32.107048Z",
     "iopub.status.busy": "2022-07-13T03:46:32.106829Z",
     "iopub.status.idle": "2022-07-13T03:51:06.827385Z",
     "shell.execute_reply": "2022-07-13T03:51:06.826872Z"
    }
   },
   "outputs": [],
   "source": [
    "await create_data(medium_async_func, False, df)"
   ]
  },
  {
   "cell_type": "code",
   "execution_count": null,
   "id": "24eb6baa",
   "metadata": {
    "execution": {
     "iopub.execute_input": "2022-07-13T03:51:06.830397Z",
     "iopub.status.busy": "2022-07-13T03:51:06.829822Z",
     "iopub.status.idle": "2022-07-13T03:58:52.581701Z",
     "shell.execute_reply": "2022-07-13T03:58:52.580706Z"
    }
   },
   "outputs": [],
   "source": [
    "await create_data(medium_timeout_async_func, True, df)"
   ]
  },
  {
   "cell_type": "code",
   "execution_count": null,
   "id": "6574ab16",
   "metadata": {
    "execution": {
     "iopub.execute_input": "2022-07-13T03:58:52.584479Z",
     "iopub.status.busy": "2022-07-13T03:58:52.584272Z",
     "iopub.status.idle": "2022-07-13T04:08:20.936820Z",
     "shell.execute_reply": "2022-07-13T04:08:20.936285Z"
    }
   },
   "outputs": [],
   "source": [
    "await create_data(long_async_func, False, df)"
   ]
  },
  {
   "cell_type": "code",
   "execution_count": null,
   "id": "cd46f707",
   "metadata": {
    "execution": {
     "iopub.execute_input": "2022-07-13T04:08:20.939718Z",
     "iopub.status.busy": "2022-07-13T04:08:20.939511Z",
     "iopub.status.idle": "2022-07-13T04:16:48.515333Z",
     "shell.execute_reply": "2022-07-13T04:16:48.514741Z"
    }
   },
   "outputs": [],
   "source": [
    "await create_data(long_timeout_async_func, True, df)"
   ]
  },
  {
   "cell_type": "code",
   "execution_count": null,
   "id": "c6eefc01",
   "metadata": {
    "execution": {
     "iopub.execute_input": "2022-07-13T04:16:48.518443Z",
     "iopub.status.busy": "2022-07-13T04:16:48.518229Z",
     "iopub.status.idle": "2022-07-13T04:17:50.454759Z",
     "shell.execute_reply": "2022-07-13T04:17:50.454244Z"
    }
   },
   "outputs": [],
   "source": [
    "await create_data(huge_async_func, False, df)"
   ]
  },
  {
   "cell_type": "code",
   "execution_count": null,
   "id": "34eb76b4",
   "metadata": {
    "execution": {
     "iopub.execute_input": "2022-07-13T04:17:50.457651Z",
     "iopub.status.busy": "2022-07-13T04:17:50.457445Z",
     "iopub.status.idle": "2022-07-13T04:18:53.140384Z",
     "shell.execute_reply": "2022-07-13T04:18:53.139515Z"
    }
   },
   "outputs": [],
   "source": [
    "await create_data(huge_timeout_async_func, True, df)"
   ]
  },
  {
   "cell_type": "code",
   "execution_count": null,
   "id": "4a8e750b",
   "metadata": {
    "execution": {
     "iopub.execute_input": "2022-07-13T04:18:53.143156Z",
     "iopub.status.busy": "2022-07-13T04:18:53.142942Z",
     "iopub.status.idle": "2022-07-13T04:18:53.147667Z",
     "shell.execute_reply": "2022-07-13T04:18:53.147093Z"
    }
   },
   "outputs": [],
   "source": [
    "logging.info(\"Clearing performance folder...\")"
   ]
  },
  {
   "cell_type": "code",
   "execution_count": null,
   "id": "09945cf0",
   "metadata": {
    "execution": {
     "iopub.execute_input": "2022-07-13T04:18:53.150375Z",
     "iopub.status.busy": "2022-07-13T04:18:53.150176Z",
     "iopub.status.idle": "2022-07-13T04:18:53.154141Z",
     "shell.execute_reply": "2022-07-13T04:18:53.153578Z"
    }
   },
   "outputs": [],
   "source": [
    "if os.path.isdir(\"../performance\"):\n",
    "    shutil.rmtree(\"../performance\")\n",
    "os.makedirs(\"../performance\")"
   ]
  },
  {
   "cell_type": "code",
   "execution_count": null,
   "id": "41770de2",
   "metadata": {
    "execution": {
     "iopub.execute_input": "2022-07-13T04:18:53.156674Z",
     "iopub.status.busy": "2022-07-13T04:18:53.156469Z",
     "iopub.status.idle": "2022-07-13T04:18:53.159750Z",
     "shell.execute_reply": "2022-07-13T04:18:53.159152Z"
    }
   },
   "outputs": [],
   "source": [
    "logging.info(\"Creating plots...\")"
   ]
  },
  {
   "cell_type": "code",
   "execution_count": null,
   "id": "f6dcc509",
   "metadata": {
    "execution": {
     "iopub.execute_input": "2022-07-13T04:18:53.163246Z",
     "iopub.status.busy": "2022-07-13T04:18:53.163052Z",
     "iopub.status.idle": "2022-07-13T04:18:54.525400Z",
     "shell.execute_reply": "2022-07-13T04:18:54.524782Z"
    }
   },
   "outputs": [],
   "source": [
    "plt.figure(figsize=(16, 9))\n",
    "sns.lineplot(data=df, x='number of calls', y='time to complete', hue='function')\n",
    "plt.title('General performance evaluation')\n",
    "plt.ylim(0, MAX_TIME)\n",
    "plt.ylabel('Execution time in seconds')\n",
    "plt.xlabel('Number of calls')\n",
    "plt.savefig(\"../performance/general.png\", backend='agg', dpi=300)\n",
    "plt.show()"
   ]
  },
  {
   "cell_type": "code",
   "execution_count": null,
   "id": "f8bc333c",
   "metadata": {
    "execution": {
     "iopub.execute_input": "2022-07-13T04:18:54.528855Z",
     "iopub.status.busy": "2022-07-13T04:18:54.528524Z",
     "iopub.status.idle": "2022-07-13T04:18:54.536558Z",
     "shell.execute_reply": "2022-07-13T04:18:54.536013Z"
    }
   },
   "outputs": [],
   "source": [
    "df_sync = df.query('`async` == False')\n",
    "df_async = df.query('`async` == True')"
   ]
  },
  {
   "cell_type": "code",
   "execution_count": null,
   "id": "a4306b3c",
   "metadata": {
    "execution": {
     "iopub.execute_input": "2022-07-13T04:18:54.539680Z",
     "iopub.status.busy": "2022-07-13T04:18:54.539373Z",
     "iopub.status.idle": "2022-07-13T04:18:55.278799Z",
     "shell.execute_reply": "2022-07-13T04:18:55.278152Z"
    }
   },
   "outputs": [],
   "source": [
    "plt.figure(figsize=(16, 9))\n",
    "sns.lineplot(data=df_sync, x='number of calls', y='time to complete', hue='function')\n",
    "plt.title('Synchronous performance evaluation')\n",
    "plt.ylim(0, MAX_TIME)\n",
    "plt.ylabel('Execution time in seconds')\n",
    "plt.xlabel('Number of calls')\n",
    "plt.savefig(\"../performance/sync.png\", backend='agg', dpi=200)\n",
    "plt.show()"
   ]
  },
  {
   "cell_type": "code",
   "execution_count": null,
   "id": "3a9b1958",
   "metadata": {
    "execution": {
     "iopub.execute_input": "2022-07-13T04:18:55.281807Z",
     "iopub.status.busy": "2022-07-13T04:18:55.281589Z",
     "iopub.status.idle": "2022-07-13T04:18:55.585883Z",
     "shell.execute_reply": "2022-07-13T04:18:55.585248Z"
    }
   },
   "outputs": [],
   "source": [
    "plt.figure(figsize=(16, 9))\n",
    "sns.lineplot(data=df_sync, x='number of calls', y='time to complete', hue='function')\n",
    "plt.title('Synchronous performance evaluation scaled')\n",
    "plt.ylim(0, MAX_TIME)\n",
    "plt.xlim(0, df_sync.query(\"not function.str.contains('quick')\")['number of calls'].max())\n",
    "plt.ylabel('Execution time in seconds')\n",
    "plt.xlabel('Number of calls')\n",
    "plt.show()"
   ]
  },
  {
   "cell_type": "code",
   "execution_count": null,
   "id": "f818dde0",
   "metadata": {
    "execution": {
     "iopub.execute_input": "2022-07-13T04:18:55.589453Z",
     "iopub.status.busy": "2022-07-13T04:18:55.588955Z",
     "iopub.status.idle": "2022-07-13T04:18:56.334683Z",
     "shell.execute_reply": "2022-07-13T04:18:56.334011Z"
    }
   },
   "outputs": [],
   "source": [
    "plt.figure(figsize=(16, 9))\n",
    "sns.lineplot(data=df_async, x='number of calls', y='time to complete', hue='function')\n",
    "plt.title('Asynchronous performance evaluation')\n",
    "plt.ylim(0, MAX_TIME)\n",
    "plt.ylabel('Execution time in seconds')\n",
    "plt.xlabel('Number of calls')\n",
    "plt.savefig('../performance/async.png', backend='agg', dpi=200)\n",
    "plt.show()"
   ]
  },
  {
   "cell_type": "code",
   "execution_count": null,
   "id": "a3f97fd6",
   "metadata": {
    "execution": {
     "iopub.execute_input": "2022-07-13T04:18:56.338126Z",
     "iopub.status.busy": "2022-07-13T04:18:56.337789Z",
     "iopub.status.idle": "2022-07-13T04:18:56.652244Z",
     "shell.execute_reply": "2022-07-13T04:18:56.651635Z"
    }
   },
   "outputs": [],
   "source": [
    "plt.figure(figsize=(16, 9))\n",
    "sns.lineplot(data=df_async, x='number of calls', y='time to complete', hue='function')\n",
    "plt.title('Asynchronous performance evaluation scaled')\n",
    "plt.ylim(0, MAX_TIME)\n",
    "plt.xlim(0, df_async.query(\"not function.str.contains('quick')\")['number of calls'].max())\n",
    "plt.ylabel('Execution time in seconds')\n",
    "plt.xlabel('Number of calls')\n",
    "plt.show()"
   ]
  },
  {
   "cell_type": "code",
   "execution_count": null,
   "id": "402e1948",
   "metadata": {
    "execution": {
     "iopub.execute_input": "2022-07-13T04:18:56.655551Z",
     "iopub.status.busy": "2022-07-13T04:18:56.655214Z",
     "iopub.status.idle": "2022-07-13T04:18:56.663104Z",
     "shell.execute_reply": "2022-07-13T04:18:56.662565Z"
    }
   },
   "outputs": [],
   "source": [
    "df_quick_async = df_async.query('function.str.contains(\"quick\")')\n",
    "df_quick_sync = df_sync.query('function.str.contains(\"quick\")')"
   ]
  },
  {
   "cell_type": "code",
   "execution_count": null,
   "id": "2d6305db",
   "metadata": {
    "execution": {
     "iopub.execute_input": "2022-07-13T04:18:56.666426Z",
     "iopub.status.busy": "2022-07-13T04:18:56.665916Z",
     "iopub.status.idle": "2022-07-13T04:18:56.980807Z",
     "shell.execute_reply": "2022-07-13T04:18:56.980131Z"
    }
   },
   "outputs": [],
   "source": [
    "plt.figure(figsize=(16, 9))\n",
    "sns.lineplot(data=df_quick_async, x='number of calls', y='time to complete', hue='function')\n",
    "plt.title('Asynchronous performance evaluation between quick functions')\n",
    "plt.ylim(0, MAX_TIME)\n",
    "plt.ylabel('Execution time in seconds')\n",
    "plt.xlabel('Number of calls')\n",
    "plt.savefig(\"../performance/async_quick.png\", backend='agg')\n",
    "plt.show()"
   ]
  },
  {
   "cell_type": "code",
   "execution_count": null,
   "id": "85f02d25",
   "metadata": {
    "execution": {
     "iopub.execute_input": "2022-07-13T04:18:56.985137Z",
     "iopub.status.busy": "2022-07-13T04:18:56.983922Z",
     "iopub.status.idle": "2022-07-13T04:18:57.252210Z",
     "shell.execute_reply": "2022-07-13T04:18:57.251601Z"
    }
   },
   "outputs": [],
   "source": [
    "plt.figure(figsize=(16, 9))\n",
    "sns.lineplot(data=df_quick_async, x='number of calls', y='time to complete', hue='function')\n",
    "plt.title('Asynchronous performance evaluation between quick functions scaled')\n",
    "plt.ylim(0, MAX_TIME)\n",
    "plt.xlim(0, df_quick_async.query(\"timeout == True\")['number of calls'].max())\n",
    "plt.ylabel('Execution time in seconds')\n",
    "plt.xlabel('Number of calls')\n",
    "plt.show()"
   ]
  },
  {
   "cell_type": "code",
   "execution_count": null,
   "id": "f163b23a",
   "metadata": {
    "execution": {
     "iopub.execute_input": "2022-07-13T04:18:57.255177Z",
     "iopub.status.busy": "2022-07-13T04:18:57.254952Z",
     "iopub.status.idle": "2022-07-13T04:18:57.572089Z",
     "shell.execute_reply": "2022-07-13T04:18:57.571489Z"
    }
   },
   "outputs": [],
   "source": [
    "plt.figure(figsize=(16, 9))\n",
    "sns.lineplot(data=df_quick_sync, x='number of calls', y='time to complete', hue='function')\n",
    "plt.title('Synchronous performance evaluation between quick functions')\n",
    "plt.ylim(0, MAX_TIME)\n",
    "plt.ylabel('Execution time in seconds')\n",
    "plt.xlabel('Number of calls')\n",
    "plt.savefig('../performance/sync_quick.png', backend='agg')\n",
    "plt.show()"
   ]
  },
  {
   "cell_type": "code",
   "execution_count": null,
   "id": "18999d85",
   "metadata": {
    "execution": {
     "iopub.execute_input": "2022-07-13T04:18:57.576317Z",
     "iopub.status.busy": "2022-07-13T04:18:57.575118Z",
     "iopub.status.idle": "2022-07-13T04:18:57.790684Z",
     "shell.execute_reply": "2022-07-13T04:18:57.790006Z"
    }
   },
   "outputs": [],
   "source": [
    "plt.figure(figsize=(16, 9))\n",
    "sns.lineplot(data=df_quick_sync, x='number of calls', y='time to complete', hue='function')\n",
    "plt.title('Synchronous performance evaluation between quick functions scaled')\n",
    "plt.ylim(0, MAX_TIME)\n",
    "plt.xlim(0, df_quick_sync.query(\"timeout == True\")['number of calls'].max())\n",
    "plt.ylabel('Execution time in seconds')\n",
    "plt.xlabel('Number of calls')\n",
    "plt.show()"
   ]
  },
  {
   "cell_type": "code",
   "execution_count": null,
   "id": "7022a6fd",
   "metadata": {
    "execution": {
     "iopub.execute_input": "2022-07-13T04:18:57.794292Z",
     "iopub.status.busy": "2022-07-13T04:18:57.793885Z",
     "iopub.status.idle": "2022-07-13T04:18:57.802153Z",
     "shell.execute_reply": "2022-07-13T04:18:57.801603Z"
    }
   },
   "outputs": [],
   "source": [
    "df_medium_sync = df_sync.query(\"function.str.contains('medium')\")\n",
    "df_medium_async = df_async.query(\"function.str.contains('medium')\")"
   ]
  },
  {
   "cell_type": "code",
   "execution_count": null,
   "id": "ee1d084b",
   "metadata": {
    "execution": {
     "iopub.execute_input": "2022-07-13T04:18:57.804861Z",
     "iopub.status.busy": "2022-07-13T04:18:57.804542Z",
     "iopub.status.idle": "2022-07-13T04:18:58.125698Z",
     "shell.execute_reply": "2022-07-13T04:18:58.125034Z"
    }
   },
   "outputs": [],
   "source": [
    "plt.figure(figsize=(16, 9))\n",
    "sns.lineplot(data=df_medium_async, x='number of calls', y='time to complete', hue='function')\n",
    "plt.title('Asynchronous performance evaluation between medium functions')\n",
    "plt.ylim(0, MAX_TIME)\n",
    "plt.ylabel('Execution time in seconds')\n",
    "plt.xlabel('Number of calls')\n",
    "plt.savefig('../performance/async_medium.png', backend='agg')\n",
    "plt.show()"
   ]
  },
  {
   "cell_type": "code",
   "execution_count": null,
   "id": "72b62df2",
   "metadata": {
    "execution": {
     "iopub.execute_input": "2022-07-13T04:18:58.128628Z",
     "iopub.status.busy": "2022-07-13T04:18:58.128272Z",
     "iopub.status.idle": "2022-07-13T04:18:58.446816Z",
     "shell.execute_reply": "2022-07-13T04:18:58.446173Z"
    }
   },
   "outputs": [],
   "source": [
    "plt.figure(figsize=(16, 9))\n",
    "sns.lineplot(data=df_medium_sync, x='number of calls', y='time to complete', hue='function')\n",
    "plt.title('Synchronous performance evaluation between medium functions')\n",
    "plt.ylim(0, MAX_TIME)\n",
    "plt.ylabel('Execution time in seconds')\n",
    "plt.xlabel('Number of calls')\n",
    "plt.savefig('../performance/sync_medium.png', backend='agg')\n",
    "plt.show()"
   ]
  },
  {
   "cell_type": "code",
   "execution_count": null,
   "id": "361f047e",
   "metadata": {
    "execution": {
     "iopub.execute_input": "2022-07-13T04:18:58.449619Z",
     "iopub.status.busy": "2022-07-13T04:18:58.449379Z",
     "iopub.status.idle": "2022-07-13T04:18:58.458400Z",
     "shell.execute_reply": "2022-07-13T04:18:58.457844Z"
    }
   },
   "outputs": [],
   "source": [
    "df_long_sync = df_sync.query(\"function.str.contains('long')\")\n",
    "df_long_async = df_async.query(\"function.str.contains('long')\")"
   ]
  },
  {
   "cell_type": "code",
   "execution_count": null,
   "id": "249de210",
   "metadata": {
    "execution": {
     "iopub.execute_input": "2022-07-13T04:18:58.460974Z",
     "iopub.status.busy": "2022-07-13T04:18:58.460772Z",
     "iopub.status.idle": "2022-07-13T04:18:58.763838Z",
     "shell.execute_reply": "2022-07-13T04:18:58.763222Z"
    }
   },
   "outputs": [],
   "source": [
    "plt.figure(figsize=(16, 9))\n",
    "sns.lineplot(data=df_long_async, x='number of calls', y='time to complete', hue='function')\n",
    "plt.title('Asynchronous performance evaluation between long functions')\n",
    "plt.ylim(0, MAX_TIME)\n",
    "plt.ylabel('Execution time in seconds')\n",
    "plt.xlabel('Number of calls')\n",
    "plt.savefig('../performance/async_long.png', backend='agg')\n",
    "plt.show()"
   ]
  },
  {
   "cell_type": "code",
   "execution_count": null,
   "id": "39aa8584",
   "metadata": {
    "execution": {
     "iopub.execute_input": "2022-07-13T04:18:58.766710Z",
     "iopub.status.busy": "2022-07-13T04:18:58.766485Z",
     "iopub.status.idle": "2022-07-13T04:18:59.070141Z",
     "shell.execute_reply": "2022-07-13T04:18:59.069533Z"
    }
   },
   "outputs": [],
   "source": [
    "plt.figure(figsize=(16, 9))\n",
    "sns.lineplot(data=df_long_sync, x='number of calls', y='time to complete', hue='function')\n",
    "plt.title('Synchronous performance evaluation between long functions')\n",
    "plt.ylim(0, MAX_TIME)\n",
    "plt.ylabel('Execution time in seconds')\n",
    "plt.xlabel('Number of calls')\n",
    "plt.savefig('../performance/sync_long.png', backend='agg')\n",
    "plt.show()"
   ]
  },
  {
   "cell_type": "code",
   "execution_count": null,
   "id": "b3268753",
   "metadata": {
    "execution": {
     "iopub.execute_input": "2022-07-13T04:18:59.073088Z",
     "iopub.status.busy": "2022-07-13T04:18:59.072873Z",
     "iopub.status.idle": "2022-07-13T04:18:59.081604Z",
     "shell.execute_reply": "2022-07-13T04:18:59.081034Z"
    }
   },
   "outputs": [],
   "source": [
    "df_huge_sync = df_sync.query(\"function.str.contains('huge')\")\n",
    "df_huge_async = df_async.query(\"function.str.contains('huge')\")"
   ]
  },
  {
   "cell_type": "code",
   "execution_count": null,
   "id": "0a756f8d",
   "metadata": {
    "execution": {
     "iopub.execute_input": "2022-07-13T04:18:59.084215Z",
     "iopub.status.busy": "2022-07-13T04:18:59.084002Z",
     "iopub.status.idle": "2022-07-13T04:18:59.377007Z",
     "shell.execute_reply": "2022-07-13T04:18:59.376411Z"
    }
   },
   "outputs": [],
   "source": [
    "plt.figure(figsize=(16, 9))\n",
    "sns.lineplot(data=df_huge_async, x='number of calls', y='time to complete', hue='function')\n",
    "plt.title('Asynchronous performance evaluation between huge functions')\n",
    "plt.ylim(0, MAX_TIME)\n",
    "plt.ylabel('Execution time in seconds')\n",
    "plt.xlabel('Number of calls')\n",
    "plt.savefig('../performance/async_huge.png', backend='agg')\n",
    "plt.show()"
   ]
  },
  {
   "cell_type": "code",
   "execution_count": null,
   "id": "795885e1",
   "metadata": {
    "execution": {
     "iopub.execute_input": "2022-07-13T04:18:59.379825Z",
     "iopub.status.busy": "2022-07-13T04:18:59.379603Z",
     "iopub.status.idle": "2022-07-13T04:18:59.675325Z",
     "shell.execute_reply": "2022-07-13T04:18:59.674722Z"
    }
   },
   "outputs": [],
   "source": [
    "plt.figure(figsize=(16, 9))\n",
    "sns.lineplot(data=df_huge_sync, x='number of calls', y='time to complete', hue='function')\n",
    "plt.title('Synchronous performance evaluation between huge functions')\n",
    "plt.ylim(0, MAX_TIME)\n",
    "plt.ylabel('Execution time in seconds')\n",
    "plt.xlabel('Number of calls')\n",
    "plt.savefig('../performance/sync_huge.png', backend='agg')\n",
    "plt.show()"
   ]
  }
 ],
 "metadata": {
  "kernelspec": {
   "display_name": "Python 3 (ipykernel)",
   "language": "python",
   "name": "python3"
  },
  "language_info": {
   "codemirror_mode": {
    "name": "ipython",
    "version": 3
   },
   "file_extension": ".py",
   "mimetype": "text/x-python",
   "name": "python",
   "nbconvert_exporter": "python",
   "pygments_lexer": "ipython3",
   "version": "3.10.5"
  }
 },
 "nbformat": 4,
 "nbformat_minor": 5
}
